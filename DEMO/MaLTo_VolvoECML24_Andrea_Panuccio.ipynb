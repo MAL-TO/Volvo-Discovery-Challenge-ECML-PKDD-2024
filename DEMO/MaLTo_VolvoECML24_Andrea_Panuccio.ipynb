{
  "nbformat": 4,
  "nbformat_minor": 0,
  "metadata": {
    "colab": {
      "provenance": []
    },
    "kernelspec": {
      "name": "python3",
      "display_name": "Python 3"
    },
    "language_info": {
      "name": "python"
    }
  },
  "cells": [
    {
      "cell_type": "code",
      "execution_count": null,
      "metadata": {
        "id": "h-R4ePPDPSD7"
      },
      "outputs": [],
      "source": [
        "#install HERE!"
      ]
    },
    {
      "cell_type": "code",
      "source": [
        "#import HERE!\n",
        "import torch\n",
        "import numpy as np\n",
        "import pandas as pd\n",
        "import matplotlib.pyplot as plt\n",
        "import os"
      ],
      "metadata": {
        "id": "EvtdrK2DP4WI"
      },
      "execution_count": 1,
      "outputs": []
    },
    {
      "cell_type": "code",
      "source": [
        "#retrieve the challenge files from google drive, using a git repositories generates bugs if u restart the runtime -.-\"\n",
        "#if u haven't downloaded them yet, see: https://halmstaduniversity.app.box.com/s/x2e8gfcb37an77wwc566ror3r3sg2yg1\n",
        "from google.colab import drive\n",
        "drive.mount('/content/drive')"
      ],
      "metadata": {
        "colab": {
          "base_uri": "https://localhost:8080/"
        },
        "id": "K4izJDiiQAD5",
        "outputId": "e6ebb77e-6cc0-4904-fa72-99ff011b315a"
      },
      "execution_count": 2,
      "outputs": [
        {
          "output_type": "stream",
          "name": "stdout",
          "text": [
            "Mounted at /content/drive\n"
          ]
        }
      ]
    },
    {
      "cell_type": "code",
      "source": [
        "#can find your path going on the \"folder image\" on the left,\n",
        "#navigating your drive till the project folder, then selecting \"copy path\" in the \"3dots menu\" u.u\n",
        "DIR_PATH = '/content/drive/MyDrive/MaLTo/Volvo Challenge ECML 2024'"
      ],
      "metadata": {
        "id": "P_Ia_ND6QcHi"
      },
      "execution_count": 13,
      "outputs": []
    },
    {
      "cell_type": "code",
      "source": [
        "#just a check u're not messin up: u should see the list of your folder's descendants O.ò\n",
        "!ls {DIR_PATH.replace(\" \",\"\\ \")}"
      ],
      "metadata": {
        "colab": {
          "base_uri": "https://localhost:8080/"
        },
        "id": "iFUinHHQRp9D",
        "outputId": "83c600c3-28ab-4515-8f2f-0da45f54816b"
      },
      "execution_count": 16,
      "outputs": [
        {
          "output_type": "stream",
          "name": "stdout",
          "text": [
            " public_X_test.csv   startkit.py      variants.csv\n",
            " SampleSubmission    train_gen1.csv  'Volvo Challenge Description.pdf'\n"
          ]
        }
      ]
    },
    {
      "cell_type": "code",
      "source": [
        "#try the demo steps from \"startkit.py\"...\n",
        "#notice that I added my DIR_PATH wrt the original code °u°\n",
        "#u should see as output the shape of our data\n",
        "\n",
        "#they also used a seed for rng\n",
        "np.random.seed(40)\n",
        "\n",
        "df_train = pd.read_csv(os.path.join(DIR_PATH,'train_gen1.csv'))\n",
        "X_test = pd.read_csv(os.path.join(DIR_PATH,'public_X_test.csv'))\n",
        "df_variants = pd.read_csv(os.path.join(DIR_PATH,'variants.csv'))\n",
        "\n",
        "print('Subsampling the training data to speed up the training process ...')\n",
        "df_train = df_train.sample(frac=0.2)\n",
        "\n",
        "print('df_train.shape:', df_train.shape)\n",
        "print('X_test.shape:', X_test.shape)\n",
        "print('df_variants.shape:', df_variants.shape)"
      ],
      "metadata": {
        "colab": {
          "base_uri": "https://localhost:8080/"
        },
        "id": "LNRolr7CSXcI",
        "outputId": "09871dad-1c47-4554-8872-e4289c632385"
      },
      "execution_count": 19,
      "outputs": [
        {
          "output_type": "stream",
          "name": "stdout",
          "text": [
            "Subsampling the training data to speed up the training process ...\n",
            "df_train.shape: (31487, 308)\n",
            "X_test.shape: (33590, 307)\n",
            "df_variants.shape: (10639, 13)\n"
          ]
        }
      ]
    },
    {
      "cell_type": "code",
      "source": [
        "#they decided to impute missing and to always set to 0...we should check this O.ò\n",
        "# impute missing values\n",
        "df_train.fillna(0, inplace=True)\n",
        "X_test.fillna(0, inplace=True)"
      ],
      "metadata": {
        "id": "dmndp9pBYMYc"
      },
      "execution_count": 20,
      "outputs": []
    },
    {
      "cell_type": "code",
      "source": [
        "#They fitted a tree\n",
        "from sklearn.tree import DecisionTreeClassifier\n",
        "classifier = DecisionTreeClassifier(random_state=42)"
      ],
      "metadata": {
        "id": "gB6fXXJMYlhT"
      },
      "execution_count": 22,
      "outputs": []
    },
    {
      "cell_type": "code",
      "source": [
        "#dropping columns and getting train X and y\n",
        "X_train = df_train.drop(columns=['Timesteps', 'ChassisId_encoded', 'gen', 'risk_level'])\n",
        "y_train = df_train['risk_level']"
      ],
      "metadata": {
        "id": "bKml0p5fZTAO"
      },
      "execution_count": 23,
      "outputs": []
    },
    {
      "cell_type": "code",
      "source": [
        "#notice that our labels are still strings and not in one-hot encoding °u°\n",
        "y_train.iloc[0], y_train.shape, y_train.name, (y_train.unique())"
      ],
      "metadata": {
        "colab": {
          "base_uri": "https://localhost:8080/"
        },
        "id": "lMZF5v4oZpXh",
        "outputId": "5b0525ea-ea3d-4061-ecad-18d58f1077d4"
      },
      "execution_count": 36,
      "outputs": [
        {
          "output_type": "execute_result",
          "data": {
            "text/plain": [
              "('Low', (31487,), 'risk_level', array(['Low', 'Medium', 'High'], dtype=object))"
            ]
          },
          "metadata": {},
          "execution_count": 36
        }
      ]
    },
    {
      "cell_type": "code",
      "source": [
        "#fitting the model...\n",
        "print('fitting the classifier ...')\n",
        "classifier.fit(X_train, y_train)"
      ],
      "metadata": {
        "colab": {
          "base_uri": "https://localhost:8080/",
          "height": 91
        },
        "id": "A3296pHSdh2X",
        "outputId": "95c76c58-3c8e-4954-94b5-d8b9620fa7e2"
      },
      "execution_count": 37,
      "outputs": [
        {
          "output_type": "stream",
          "name": "stdout",
          "text": [
            "fitting the classifier ...\n"
          ]
        },
        {
          "output_type": "execute_result",
          "data": {
            "text/plain": [
              "DecisionTreeClassifier(random_state=42)"
            ],
            "text/html": [
              "<style>#sk-container-id-1 {color: black;background-color: white;}#sk-container-id-1 pre{padding: 0;}#sk-container-id-1 div.sk-toggleable {background-color: white;}#sk-container-id-1 label.sk-toggleable__label {cursor: pointer;display: block;width: 100%;margin-bottom: 0;padding: 0.3em;box-sizing: border-box;text-align: center;}#sk-container-id-1 label.sk-toggleable__label-arrow:before {content: \"▸\";float: left;margin-right: 0.25em;color: #696969;}#sk-container-id-1 label.sk-toggleable__label-arrow:hover:before {color: black;}#sk-container-id-1 div.sk-estimator:hover label.sk-toggleable__label-arrow:before {color: black;}#sk-container-id-1 div.sk-toggleable__content {max-height: 0;max-width: 0;overflow: hidden;text-align: left;background-color: #f0f8ff;}#sk-container-id-1 div.sk-toggleable__content pre {margin: 0.2em;color: black;border-radius: 0.25em;background-color: #f0f8ff;}#sk-container-id-1 input.sk-toggleable__control:checked~div.sk-toggleable__content {max-height: 200px;max-width: 100%;overflow: auto;}#sk-container-id-1 input.sk-toggleable__control:checked~label.sk-toggleable__label-arrow:before {content: \"▾\";}#sk-container-id-1 div.sk-estimator input.sk-toggleable__control:checked~label.sk-toggleable__label {background-color: #d4ebff;}#sk-container-id-1 div.sk-label input.sk-toggleable__control:checked~label.sk-toggleable__label {background-color: #d4ebff;}#sk-container-id-1 input.sk-hidden--visually {border: 0;clip: rect(1px 1px 1px 1px);clip: rect(1px, 1px, 1px, 1px);height: 1px;margin: -1px;overflow: hidden;padding: 0;position: absolute;width: 1px;}#sk-container-id-1 div.sk-estimator {font-family: monospace;background-color: #f0f8ff;border: 1px dotted black;border-radius: 0.25em;box-sizing: border-box;margin-bottom: 0.5em;}#sk-container-id-1 div.sk-estimator:hover {background-color: #d4ebff;}#sk-container-id-1 div.sk-parallel-item::after {content: \"\";width: 100%;border-bottom: 1px solid gray;flex-grow: 1;}#sk-container-id-1 div.sk-label:hover label.sk-toggleable__label {background-color: #d4ebff;}#sk-container-id-1 div.sk-serial::before {content: \"\";position: absolute;border-left: 1px solid gray;box-sizing: border-box;top: 0;bottom: 0;left: 50%;z-index: 0;}#sk-container-id-1 div.sk-serial {display: flex;flex-direction: column;align-items: center;background-color: white;padding-right: 0.2em;padding-left: 0.2em;position: relative;}#sk-container-id-1 div.sk-item {position: relative;z-index: 1;}#sk-container-id-1 div.sk-parallel {display: flex;align-items: stretch;justify-content: center;background-color: white;position: relative;}#sk-container-id-1 div.sk-item::before, #sk-container-id-1 div.sk-parallel-item::before {content: \"\";position: absolute;border-left: 1px solid gray;box-sizing: border-box;top: 0;bottom: 0;left: 50%;z-index: -1;}#sk-container-id-1 div.sk-parallel-item {display: flex;flex-direction: column;z-index: 1;position: relative;background-color: white;}#sk-container-id-1 div.sk-parallel-item:first-child::after {align-self: flex-end;width: 50%;}#sk-container-id-1 div.sk-parallel-item:last-child::after {align-self: flex-start;width: 50%;}#sk-container-id-1 div.sk-parallel-item:only-child::after {width: 0;}#sk-container-id-1 div.sk-dashed-wrapped {border: 1px dashed gray;margin: 0 0.4em 0.5em 0.4em;box-sizing: border-box;padding-bottom: 0.4em;background-color: white;}#sk-container-id-1 div.sk-label label {font-family: monospace;font-weight: bold;display: inline-block;line-height: 1.2em;}#sk-container-id-1 div.sk-label-container {text-align: center;}#sk-container-id-1 div.sk-container {/* jupyter's `normalize.less` sets `[hidden] { display: none; }` but bootstrap.min.css set `[hidden] { display: none !important; }` so we also need the `!important` here to be able to override the default hidden behavior on the sphinx rendered scikit-learn.org. See: https://github.com/scikit-learn/scikit-learn/issues/21755 */display: inline-block !important;position: relative;}#sk-container-id-1 div.sk-text-repr-fallback {display: none;}</style><div id=\"sk-container-id-1\" class=\"sk-top-container\"><div class=\"sk-text-repr-fallback\"><pre>DecisionTreeClassifier(random_state=42)</pre><b>In a Jupyter environment, please rerun this cell to show the HTML representation or trust the notebook. <br />On GitHub, the HTML representation is unable to render, please try loading this page with nbviewer.org.</b></div><div class=\"sk-container\" hidden><div class=\"sk-item\"><div class=\"sk-estimator sk-toggleable\"><input class=\"sk-toggleable__control sk-hidden--visually\" id=\"sk-estimator-id-1\" type=\"checkbox\" checked><label for=\"sk-estimator-id-1\" class=\"sk-toggleable__label sk-toggleable__label-arrow\">DecisionTreeClassifier</label><div class=\"sk-toggleable__content\"><pre>DecisionTreeClassifier(random_state=42)</pre></div></div></div></div></div>"
            ]
          },
          "metadata": {},
          "execution_count": 37
        }
      ]
    },
    {
      "cell_type": "code",
      "source": [
        "#predicting the test set...\n",
        "y_pred = classifier.predict(X_test.drop(columns=['Timesteps', 'ChassisId_encoded', 'gen']))"
      ],
      "metadata": {
        "id": "p5j5yUVvdRms"
      },
      "execution_count": 38,
      "outputs": []
    },
    {
      "cell_type": "code",
      "source": [
        "#saving my predictions: I suppose it'll be the required format\n",
        "#again, notice that I added my DIR_PATH wrt to the original code\n",
        "df_pred = pd.DataFrame(data=y_pred, columns=['pred'])\n",
        "df_pred.to_csv(os.path.join(DIR_PATH,'SampleSubmission/prediction.csv'), index=False)"
      ],
      "metadata": {
        "id": "lpgf5oq3d7ht"
      },
      "execution_count": 39,
      "outputs": []
    },
    {
      "cell_type": "code",
      "source": [
        "#here they create a placeholder for the test set ground truth O.O'\n",
        "#by putting in loop one of the three labels\n",
        "#so don't worry if what follows is bad\n",
        "\n",
        "# evaluating the prediction against a mocked up ground truth\n",
        "length = len(X_test)\n",
        "sequence = np.array(['Low', 'Medium', 'High'])\n",
        "mocked_true = sequence[np.arange(length) % len(sequence)]"
      ],
      "metadata": {
        "id": "NgWKrhCXekLi"
      },
      "execution_count": 40,
      "outputs": []
    },
    {
      "cell_type": "code",
      "source": [
        "#they do this to make their life easier and mine harder :Q___\n",
        "#they are just putting what they'll need for their F1 score together\n",
        "y_true = pd.DataFrame()\n",
        "y_true['risk_level'] = mocked_true\n",
        "y_true['pred'] = y_pred\n",
        "y_true['gen'] = X_test['gen']"
      ],
      "metadata": {
        "id": "OOyKDkHXiDVG"
      },
      "execution_count": 46,
      "outputs": []
    },
    {
      "cell_type": "code",
      "source": [
        "#just see if it's all ok...\n",
        "#Don't ask me what gen are\n",
        "y_true.iloc[0], y_true['gen'].unique()"
      ],
      "metadata": {
        "colab": {
          "base_uri": "https://localhost:8080/"
        },
        "id": "opSnURlAifxd",
        "outputId": "e05c68a7-532a-4b54-f9f8-d7a1e4c888d1"
      },
      "execution_count": 54,
      "outputs": [
        {
          "output_type": "execute_result",
          "data": {
            "text/plain": [
              "(risk_level     Low\n",
              " pred           Low\n",
              " gen           gen2\n",
              " Name: 0, dtype: object,\n",
              " array(['gen2', 'gen1'], dtype=object))"
            ]
          },
          "metadata": {},
          "execution_count": 54
        }
      ]
    },
    {
      "cell_type": "code",
      "source": [
        "#their function for the F1 score: I wouldn't change a single char...\n",
        "from sklearn.metrics import precision_recall_fscore_support\n",
        "def macro_avg_f1(y_true, y_pred):\n",
        "    # Get precision, recall, and f1-score for each class\n",
        "    precision, recall, f1, _ = precision_recall_fscore_support(y_true, y_pred)\n",
        "\n",
        "    # Calculate macro average F1-score\n",
        "    macro_avg_f1 = sum(f1) / len(f1)\n",
        "\n",
        "    return round(macro_avg_f1, 2)"
      ],
      "metadata": {
        "id": "OPmaVqigjsio"
      },
      "execution_count": 47,
      "outputs": []
    },
    {
      "cell_type": "code",
      "source": [
        "#compute F1 score and create a dictionary\n",
        "#again, it's not a mandatory step for the submission\n",
        "print('*** Checking Performance of the model agianst mocked up truth labels ***')\n",
        "score1 = macro_avg_f1(y_true[y_true['gen'] == 'gen1']['risk_level'],\n",
        "                            y_true[y_true['gen'] == 'gen1']['pred'])\n",
        "score2 = macro_avg_f1(y_true[y_true['gen'] == 'gen2']['risk_level'],\n",
        "                            y_true[y_true['gen'] == 'gen2']['pred'])\n",
        "\n",
        "scores = {\n",
        "    'Final Score': round((score1 + score2)/2, 2),\n",
        "    'score on gen1:': score1,\n",
        "    'score on gen2:': score2\n",
        "}"
      ],
      "metadata": {
        "colab": {
          "base_uri": "https://localhost:8080/"
        },
        "id": "mXX8SmgdkBlv",
        "outputId": "d95eedca-7465-4246-c574-d81000a0c6b5"
      },
      "execution_count": 48,
      "outputs": [
        {
          "output_type": "stream",
          "name": "stdout",
          "text": [
            "*** Checking Performance of the model agianst mocked up truth labels ***\n"
          ]
        }
      ]
    },
    {
      "cell_type": "code",
      "source": [
        "#print the results (don't panic if you are using a mocked truth)\n",
        "print(f'Evaluation results against mocked up ground truth: {macro_avg_f1(mocked_true, y_pred)}')\n",
        "print('\\nScores Details:\\n', scores)"
      ],
      "metadata": {
        "colab": {
          "base_uri": "https://localhost:8080/"
        },
        "id": "9NhC1m-kkpUa",
        "outputId": "24806294-6590-485e-9ce9-d67f1d1a03c8"
      },
      "execution_count": 50,
      "outputs": [
        {
          "output_type": "stream",
          "name": "stdout",
          "text": [
            "Evaluation results against mocked up ground truth: 0.21\n",
            "\n",
            "Scores Details:\n",
            " {'Final Score': 0.21, 'score on gen1:': 0.24, 'score on gen2:': 0.18}\n"
          ]
        }
      ]
    },
    {
      "cell_type": "code",
      "source": [
        "#this is the last step to create the .zip for the submission *u*\n",
        "import zipfile\n",
        "def compress_file(input_file, output_zip):\n",
        "    with zipfile.ZipFile(output_zip, 'w', zipfile.ZIP_DEFLATED) as zipf:\n",
        "        zipf.write(input_file, os.path.basename(input_file))"
      ],
      "metadata": {
        "id": "A_dkTWDHlEmz"
      },
      "execution_count": 51,
      "outputs": []
    },
    {
      "cell_type": "code",
      "source": [
        "#again, notice that I added my DIR_PATH wrt to the original code\n",
        "input_file = os.path.join(DIR_PATH,'SampleSubmission/prediction.csv')  # Input file to compress\n",
        "output_zip = os.path.join(DIR_PATH,'SampleSubmission/prediction.csv.zip')  # Output ZIP archive\n",
        "compress_file(input_file, output_zip)\n",
        "print(f'File \"{output_zip}\" successfully created for submission to the Codabench portal.')"
      ],
      "metadata": {
        "colab": {
          "base_uri": "https://localhost:8080/"
        },
        "id": "2kHL7tYAlXaf",
        "outputId": "ab23e40d-c17b-41a9-fd84-89a2eb9c9fd6"
      },
      "execution_count": 53,
      "outputs": [
        {
          "output_type": "stream",
          "name": "stdout",
          "text": [
            "File \"/content/drive/MyDrive/MaLTo/Volvo Challenge ECML 2024/SampleSubmission/prediction.csv.zip\" successfully created for submission to the Codabench portal.\n"
          ]
        }
      ]
    }
  ]
}