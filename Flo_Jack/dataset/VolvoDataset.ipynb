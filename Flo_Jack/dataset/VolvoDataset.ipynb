{
 "cells": [
  {
   "cell_type": "code",
   "execution_count": 1,
   "metadata": {},
   "outputs": [],
   "source": [
    "from sklearn.preprocessing import OneHotEncoder\n",
    "from torch.utils.data import Dataset, DataLoader\n",
    "from VolvoDataset import VolvoDataset\n",
    "import pandas as pd\n",
    "import numpy as np\n",
    "import torch\n",
    "import os"
   ]
  },
  {
   "cell_type": "code",
   "execution_count": 2,
   "metadata": {},
   "outputs": [],
   "source": [
    "DATA_DIR = r\"C:\\Users\\giaco\\OneDrive\\Desktop\\TimeSeries\\Volvo\\train_gen1.csv\"\n",
    "DATA_DIR = r\"/data1/malto/volvo_ecml_2024/train_gen1.csv\""
   ]
  },
  {
   "cell_type": "code",
   "execution_count": 5,
   "metadata": {},
   "outputs": [
    {
     "name": "stdout",
     "output_type": "stream",
     "text": [
      "Dropping all NaN column\n",
      "Dropping all static columns\n",
      "Keep only gen2\n",
      "Grouping by Chassis id\n"
     ]
    }
   ],
   "source": [
    "dataset = VolvoDataset(DATA_DIR, generation=\"gen2\")"
   ]
  },
  {
   "cell_type": "code",
   "execution_count": 6,
   "metadata": {},
   "outputs": [
    {
     "data": {
      "text/html": [
       "<div>\n",
       "<style scoped>\n",
       "    .dataframe tbody tr th:only-of-type {\n",
       "        vertical-align: middle;\n",
       "    }\n",
       "\n",
       "    .dataframe tbody tr th {\n",
       "        vertical-align: top;\n",
       "    }\n",
       "\n",
       "    .dataframe thead th {\n",
       "        text-align: right;\n",
       "    }\n",
       "</style>\n",
       "<table border=\"1\" class=\"dataframe\">\n",
       "  <thead>\n",
       "    <tr style=\"text-align: right;\">\n",
       "      <th></th>\n",
       "      <th>Timesteps</th>\n",
       "      <th>ChassisId_encoded</th>\n",
       "      <th>gen</th>\n",
       "      <th>risk_level</th>\n",
       "      <th>af1__0</th>\n",
       "      <th>af1__1</th>\n",
       "      <th>af1__2</th>\n",
       "      <th>af1__3</th>\n",
       "      <th>af1__4</th>\n",
       "      <th>af1__5</th>\n",
       "      <th>...</th>\n",
       "      <th>f__233</th>\n",
       "      <th>f__234</th>\n",
       "      <th>f__235</th>\n",
       "      <th>f__236</th>\n",
       "      <th>f__237</th>\n",
       "      <th>f__238</th>\n",
       "      <th>f__239</th>\n",
       "      <th>f__240</th>\n",
       "      <th>f__241</th>\n",
       "      <th>f__242</th>\n",
       "    </tr>\n",
       "  </thead>\n",
       "  <tbody>\n",
       "  </tbody>\n",
       "</table>\n",
       "<p>0 rows × 293 columns</p>\n",
       "</div>"
      ],
      "text/plain": [
       "Empty DataFrame\n",
       "Columns: [Timesteps, ChassisId_encoded, gen, risk_level, af1__0, af1__1, af1__2, af1__3, af1__4, af1__5, af1__6, af1__7, af1__8, af1__9, af1__10, af1__11, af1__12, af1__13, af1__14, af1__15, af1__16, af1__17, af1__18, af1__19, af1__20, af1__21, af1__22, af1__23, af1__24, af1__25, af1__26, af1__27, af1__28, af1__29, af1__30, af1__31, af2__0, af2__1, af2__2, af2__3, af2__4, af2__7, af2__8, af2__9, af2__10, af2__11, af2__12, af2__14, af2__15, af2__16, af2__17, af2__21, af2__23, af2__24, af2__25, af2__26, af2__27, af2__28, f__0, f__1, f__2, f__3, f__4, f__5, f__6, f__7, f__8, f__9, f__10, f__11, f__12, f__13, f__14, f__15, f__16, f__17, f__18, f__19, f__20, f__21, f__23, f__24, f__25, f__26, f__27, f__28, f__29, f__30, f__31, f__32, f__33, f__34, f__35, f__36, f__37, f__38, f__39, f__40, f__41, f__42, ...]\n",
       "Index: []\n",
       "\n",
       "[0 rows x 293 columns]"
      ]
     },
     "execution_count": 6,
     "metadata": {},
     "output_type": "execute_result"
    }
   ],
   "source": [
    "dataset.volvo_df.head()"
   ]
  },
  {
   "cell_type": "code",
   "execution_count": 5,
   "metadata": {},
   "outputs": [],
   "source": [
    "train_dataloader = DataLoader( dataset, batch_size = 12, collate_fn = VolvoDataset.padding_collate_fn)"
   ]
  },
  {
   "cell_type": "code",
   "execution_count": 19,
   "metadata": {},
   "outputs": [
    {
     "data": {
      "text/plain": [
       "(13, 293)"
      ]
     },
     "execution_count": 19,
     "metadata": {},
     "output_type": "execute_result"
    }
   ],
   "source": [
    "dataset.df_list[4].shape"
   ]
  },
  {
   "cell_type": "code",
   "execution_count": 32,
   "metadata": {},
   "outputs": [
    {
     "name": "stdout",
     "output_type": "stream",
     "text": [
      "BEFORE\n",
      "mask: (12, 29)\n",
      "data: (12, 29, 289)\n",
      "labels: (12, 29, 3)\n",
      "AFTER\n",
      "mask: (348,)\n",
      "data: (100572,)\n",
      "labels: (348, 3)\n",
      "245.0\n"
     ]
    }
   ],
   "source": [
    "for batch in train_dataloader:\n",
    "    data, labels, mask = batch\n",
    "    print(\"BEFORE\")\n",
    "    print(f\"mask: {mask.shape}\")\n",
    "    print(f\"data: {data.shape}\")\n",
    "    print(f\"labels: {labels.shape}\")\n",
    "    \n",
    "    \n",
    "    mask = mask.reshape(-1)\n",
    "    data = data.reshape(-1)\n",
    "    labels = labels.reshape(-1,3)\n",
    "    print(\"AFTER\")    \n",
    "    print(f\"mask: {mask.shape}\")\n",
    "    print(f\"data: {data.shape}\")\n",
    "    print(f\"labels: {labels.shape}\")\n",
    "    \n",
    "    labels[ mask.astype(bool) ]\n",
    "    print(mask.sum())\n",
    "    break\n",
    "    "
   ]
  },
  {
   "cell_type": "code",
   "execution_count": null,
   "metadata": {},
   "outputs": [],
   "source": []
  }
 ],
 "metadata": {
  "kernelspec": {
   "display_name": "jack_predicting-failure-risk-levels",
   "language": "python",
   "name": "python3"
  },
  "language_info": {
   "codemirror_mode": {
    "name": "ipython",
    "version": 3
   },
   "file_extension": ".py",
   "mimetype": "text/x-python",
   "name": "python",
   "nbconvert_exporter": "python",
   "pygments_lexer": "ipython3",
   "version": "3.12.3"
  }
 },
 "nbformat": 4,
 "nbformat_minor": 2
}
