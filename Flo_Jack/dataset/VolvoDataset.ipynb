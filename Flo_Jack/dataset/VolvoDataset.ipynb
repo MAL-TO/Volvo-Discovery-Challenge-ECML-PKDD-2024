{
 "cells": [
  {
   "cell_type": "code",
   "execution_count": 4,
   "metadata": {},
   "outputs": [],
   "source": [
    "from torch.utils.data import Dataset\n",
    "import pandas as pd\n",
    "import numpy as np"
   ]
  },
  {
   "cell_type": "code",
   "execution_count": 9,
   "metadata": {},
   "outputs": [],
   "source": [
    "class VolvoDataset(Dataset):\n",
    "    \n",
    "    def __init__(self, data_path = \"\"):\n",
    "        self.data_path = data_path\n",
    "        self.groups = []\n",
    "        self.volvo_df = pd.read_csv(self.data_path)\n",
    "        self.__preprocess__(verbose = True)\n",
    "\n",
    "    def __preprocess__(self, verbose = False):\n",
    "        \"\"\"\n",
    "        Preprocess the volvo df by removing NaN columns, static columns and correlated features\n",
    "        \"\"\"\n",
    "        assert self.volvo_df is not None\n",
    "        \n",
    "        if verbose:\n",
    "            print(\"Dropping all NaN column\")\n",
    "        self.volvo_df.dropna(axis = 1, inplace=True)\n",
    "        if verbose:\n",
    "            print(\"Dropping all static columns\")\n",
    "        columns_to_drop = self.volvo_df.loc[:, self.volvo_df.apply(pd.Series.nunique) == 1].columns\n",
    "        columns_to_drop = [ x for x in columns_to_drop if x not in [\"Timesteps\", \"ChassisId_encoded\", \"gen\", \"risk_level\"]]\n",
    "        self.volvo_df.drop(columns_to_drop, axis=1)\n",
    "        \n",
    "    \n",
    "    def __len__(self):\n",
    "        return len(self.uids)\n",
    "\n",
    "    def __getitem__(self, idx):\n",
    "        uid, stream = self.uids[idx], self.streams[idx]\n",
    "        return uid, stream"
   ]
  },
  {
   "cell_type": "code",
   "execution_count": 10,
   "metadata": {},
   "outputs": [],
   "source": [
    "dataset = VolvoDataset()\n"
   ]
  }
 ],
 "metadata": {
  "kernelspec": {
   "display_name": "jack_predicting-failure-risk-levels",
   "language": "python",
   "name": "python3"
  },
  "language_info": {
   "codemirror_mode": {
    "name": "ipython",
    "version": 3
   },
   "file_extension": ".py",
   "mimetype": "text/x-python",
   "name": "python",
   "nbconvert_exporter": "python",
   "pygments_lexer": "ipython3",
   "version": "3.12.3"
  }
 },
 "nbformat": 4,
 "nbformat_minor": 2
}
