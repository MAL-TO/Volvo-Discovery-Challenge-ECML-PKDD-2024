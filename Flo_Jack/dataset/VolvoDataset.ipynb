{
 "cells": [
  {
   "cell_type": "code",
   "execution_count": 1,
   "metadata": {},
   "outputs": [],
   "source": [
    "from sklearn.preprocessing import OneHotEncoder\n",
    "from torch.utils.data import Dataset, DataLoader\n",
    "from VolvoDataset import VolvoDataset\n",
    "import pandas as pd\n",
    "import numpy as np\n",
    "import torch\n",
    "import os"
   ]
  },
  {
   "cell_type": "code",
   "execution_count": 2,
   "metadata": {},
   "outputs": [],
   "source": [
    "#On Jack pc\n",
    "DATA_DIR = r\"C:\\Users\\giaco\\OneDrive\\Desktop\\TimeSeries\\Volvo\\train_gen1.csv\"\n",
    "#On Heron \n",
    "#TRAIN\n",
    "DATA_DIR = r\"/data1/malto/volvo_ecml_2024/train_gen1.csv\"\n",
    "#TEST\n",
    "TEST_DATA_DIR = r\"/data1/malto/volvo_ecml_2024/public_X_test.csv\"\n"
   ]
  },
  {
   "cell_type": "code",
   "execution_count": 3,
   "metadata": {},
   "outputs": [
    {
     "name": "stdout",
     "output_type": "stream",
     "text": [
      "--- Train Dataset ---\n",
      "preprocessing ... \n",
      "Dropping all NaN column\n",
      "Dropping all static columns\n",
      "Grouping by Chassis id\n"
     ]
    }
   ],
   "source": [
    "train_dataset = VolvoDataset(DATA_DIR)"
   ]
  },
  {
   "cell_type": "code",
   "execution_count": 4,
   "metadata": {},
   "outputs": [
    {
     "name": "stdout",
     "output_type": "stream",
     "text": [
      "--- Test Dataset ---\n",
      "Grouping by Chassis id\n"
     ]
    }
   ],
   "source": [
    "test_dataset = VolvoDataset(TEST_DATA_DIR, test=True, columns_to_keep=train_dataset.kept_columns)"
   ]
  },
  {
   "cell_type": "code",
   "execution_count": 5,
   "metadata": {},
   "outputs": [
    {
     "data": {
      "text/html": [
       "<div>\n",
       "<style scoped>\n",
       "    .dataframe tbody tr th:only-of-type {\n",
       "        vertical-align: middle;\n",
       "    }\n",
       "\n",
       "    .dataframe tbody tr th {\n",
       "        vertical-align: top;\n",
       "    }\n",
       "\n",
       "    .dataframe thead th {\n",
       "        text-align: right;\n",
       "    }\n",
       "</style>\n",
       "<table border=\"1\" class=\"dataframe\">\n",
       "  <thead>\n",
       "    <tr style=\"text-align: right;\">\n",
       "      <th></th>\n",
       "      <th>Timesteps</th>\n",
       "      <th>ChassisId_encoded</th>\n",
       "      <th>gen</th>\n",
       "      <th>af1__0</th>\n",
       "      <th>af1__1</th>\n",
       "      <th>af1__2</th>\n",
       "      <th>af1__3</th>\n",
       "      <th>af1__4</th>\n",
       "      <th>af1__5</th>\n",
       "      <th>af1__6</th>\n",
       "      <th>...</th>\n",
       "      <th>f__233</th>\n",
       "      <th>f__234</th>\n",
       "      <th>f__235</th>\n",
       "      <th>f__236</th>\n",
       "      <th>f__237</th>\n",
       "      <th>f__238</th>\n",
       "      <th>f__239</th>\n",
       "      <th>f__240</th>\n",
       "      <th>f__241</th>\n",
       "      <th>f__242</th>\n",
       "    </tr>\n",
       "  </thead>\n",
       "  <tbody>\n",
       "    <tr>\n",
       "      <th>0</th>\n",
       "      <td>0.0</td>\n",
       "      <td>181.0</td>\n",
       "      <td>gen2</td>\n",
       "      <td>0.001572</td>\n",
       "      <td>0.000074</td>\n",
       "      <td>0.009537</td>\n",
       "      <td>2.436562e-07</td>\n",
       "      <td>0.005458</td>\n",
       "      <td>0.005413</td>\n",
       "      <td>0.003982</td>\n",
       "      <td>...</td>\n",
       "      <td>0.228181</td>\n",
       "      <td>2.260611</td>\n",
       "      <td>0.443237</td>\n",
       "      <td>-0.173428</td>\n",
       "      <td>-0.490855</td>\n",
       "      <td>0.027760</td>\n",
       "      <td>-0.007520</td>\n",
       "      <td>0.111756</td>\n",
       "      <td>0.713604</td>\n",
       "      <td>-0.108912</td>\n",
       "    </tr>\n",
       "    <tr>\n",
       "      <th>1</th>\n",
       "      <td>1.0</td>\n",
       "      <td>181.0</td>\n",
       "      <td>gen2</td>\n",
       "      <td>0.001572</td>\n",
       "      <td>0.000074</td>\n",
       "      <td>0.009537</td>\n",
       "      <td>2.436562e-07</td>\n",
       "      <td>0.005458</td>\n",
       "      <td>0.005413</td>\n",
       "      <td>0.003982</td>\n",
       "      <td>...</td>\n",
       "      <td>0.228181</td>\n",
       "      <td>2.260611</td>\n",
       "      <td>0.443237</td>\n",
       "      <td>-0.150103</td>\n",
       "      <td>-0.490656</td>\n",
       "      <td>0.016915</td>\n",
       "      <td>-0.012925</td>\n",
       "      <td>0.126104</td>\n",
       "      <td>0.752002</td>\n",
       "      <td>-0.106688</td>\n",
       "    </tr>\n",
       "    <tr>\n",
       "      <th>2</th>\n",
       "      <td>2.0</td>\n",
       "      <td>181.0</td>\n",
       "      <td>gen2</td>\n",
       "      <td>0.001572</td>\n",
       "      <td>0.000074</td>\n",
       "      <td>0.009537</td>\n",
       "      <td>2.436562e-07</td>\n",
       "      <td>0.005458</td>\n",
       "      <td>0.005413</td>\n",
       "      <td>0.003982</td>\n",
       "      <td>...</td>\n",
       "      <td>0.228181</td>\n",
       "      <td>2.260611</td>\n",
       "      <td>0.443237</td>\n",
       "      <td>-0.136927</td>\n",
       "      <td>-0.491369</td>\n",
       "      <td>0.014565</td>\n",
       "      <td>-0.015026</td>\n",
       "      <td>0.126458</td>\n",
       "      <td>0.764391</td>\n",
       "      <td>-0.105829</td>\n",
       "    </tr>\n",
       "    <tr>\n",
       "      <th>3</th>\n",
       "      <td>3.0</td>\n",
       "      <td>181.0</td>\n",
       "      <td>gen2</td>\n",
       "      <td>0.001572</td>\n",
       "      <td>0.000074</td>\n",
       "      <td>0.009537</td>\n",
       "      <td>2.436562e-07</td>\n",
       "      <td>0.005458</td>\n",
       "      <td>0.005413</td>\n",
       "      <td>0.003982</td>\n",
       "      <td>...</td>\n",
       "      <td>0.228181</td>\n",
       "      <td>2.260611</td>\n",
       "      <td>0.443237</td>\n",
       "      <td>-0.127777</td>\n",
       "      <td>-0.489940</td>\n",
       "      <td>0.016210</td>\n",
       "      <td>-0.015648</td>\n",
       "      <td>0.125425</td>\n",
       "      <td>0.760781</td>\n",
       "      <td>-0.105922</td>\n",
       "    </tr>\n",
       "    <tr>\n",
       "      <th>4</th>\n",
       "      <td>4.0</td>\n",
       "      <td>181.0</td>\n",
       "      <td>gen2</td>\n",
       "      <td>0.001572</td>\n",
       "      <td>0.000074</td>\n",
       "      <td>0.009537</td>\n",
       "      <td>2.436562e-07</td>\n",
       "      <td>0.005458</td>\n",
       "      <td>0.005413</td>\n",
       "      <td>0.003982</td>\n",
       "      <td>...</td>\n",
       "      <td>0.228181</td>\n",
       "      <td>2.260611</td>\n",
       "      <td>0.443237</td>\n",
       "      <td>-0.112876</td>\n",
       "      <td>-0.491121</td>\n",
       "      <td>0.014534</td>\n",
       "      <td>-0.016847</td>\n",
       "      <td>0.127709</td>\n",
       "      <td>0.782974</td>\n",
       "      <td>-0.101559</td>\n",
       "    </tr>\n",
       "  </tbody>\n",
       "</table>\n",
       "<p>5 rows × 292 columns</p>\n",
       "</div>"
      ],
      "text/plain": [
       "   Timesteps  ChassisId_encoded   gen    af1__0    af1__1    af1__2  \\\n",
       "0        0.0              181.0  gen2  0.001572  0.000074  0.009537   \n",
       "1        1.0              181.0  gen2  0.001572  0.000074  0.009537   \n",
       "2        2.0              181.0  gen2  0.001572  0.000074  0.009537   \n",
       "3        3.0              181.0  gen2  0.001572  0.000074  0.009537   \n",
       "4        4.0              181.0  gen2  0.001572  0.000074  0.009537   \n",
       "\n",
       "         af1__3    af1__4    af1__5    af1__6  ...    f__233    f__234  \\\n",
       "0  2.436562e-07  0.005458  0.005413  0.003982  ...  0.228181  2.260611   \n",
       "1  2.436562e-07  0.005458  0.005413  0.003982  ...  0.228181  2.260611   \n",
       "2  2.436562e-07  0.005458  0.005413  0.003982  ...  0.228181  2.260611   \n",
       "3  2.436562e-07  0.005458  0.005413  0.003982  ...  0.228181  2.260611   \n",
       "4  2.436562e-07  0.005458  0.005413  0.003982  ...  0.228181  2.260611   \n",
       "\n",
       "     f__235    f__236    f__237    f__238    f__239    f__240    f__241  \\\n",
       "0  0.443237 -0.173428 -0.490855  0.027760 -0.007520  0.111756  0.713604   \n",
       "1  0.443237 -0.150103 -0.490656  0.016915 -0.012925  0.126104  0.752002   \n",
       "2  0.443237 -0.136927 -0.491369  0.014565 -0.015026  0.126458  0.764391   \n",
       "3  0.443237 -0.127777 -0.489940  0.016210 -0.015648  0.125425  0.760781   \n",
       "4  0.443237 -0.112876 -0.491121  0.014534 -0.016847  0.127709  0.782974   \n",
       "\n",
       "     f__242  \n",
       "0 -0.108912  \n",
       "1 -0.106688  \n",
       "2 -0.105829  \n",
       "3 -0.105922  \n",
       "4 -0.101559  \n",
       "\n",
       "[5 rows x 292 columns]"
      ]
     },
     "execution_count": 5,
     "metadata": {},
     "output_type": "execute_result"
    }
   ],
   "source": [
    "test_dataset.volvo_df.head()"
   ]
  },
  {
   "cell_type": "code",
   "execution_count": 6,
   "metadata": {},
   "outputs": [
    {
     "data": {
      "text/plain": [
       "(289, 289)"
      ]
     },
     "execution_count": 6,
     "metadata": {},
     "output_type": "execute_result"
    }
   ],
   "source": [
    "test_dataset.get_n_features(), train_dataset.get_n_features()"
   ]
  },
  {
   "cell_type": "code",
   "execution_count": 7,
   "metadata": {},
   "outputs": [],
   "source": [
    "train_dataloader = DataLoader( train_dataset, batch_size = 12, collate_fn = VolvoDataset.padding_collate_fn)\n",
    "test_dataloader = DataLoader( test_dataset, batch_size = 12, collate_fn = VolvoDataset.padding_collate_fn)"
   ]
  },
  {
   "cell_type": "code",
   "execution_count": 8,
   "metadata": {},
   "outputs": [
    {
     "data": {
      "text/plain": [
       "(13, 293)"
      ]
     },
     "execution_count": 8,
     "metadata": {},
     "output_type": "execute_result"
    }
   ],
   "source": [
    "train_dataset.df_list[4].shape"
   ]
  },
  {
   "cell_type": "code",
   "execution_count": 9,
   "metadata": {},
   "outputs": [
    {
     "name": "stdout",
     "output_type": "stream",
     "text": [
      "BEFORE\n",
      "mask: torch.Size([12, 29])\n",
      "data: torch.Size([12, 29, 289])\n",
      "labels: torch.Size([12, 29, 3])\n",
      "AFTER\n",
      "mask: torch.Size([348])\n",
      "data: torch.Size([100572])\n",
      "labels: torch.Size([348, 3])\n",
      "tensor(245.)\n"
     ]
    }
   ],
   "source": [
    "for batch in train_dataloader:\n",
    "    data, labels, mask = batch\n",
    "    print(\"BEFORE\")\n",
    "    print(f\"mask: {mask.shape}\")\n",
    "    print(f\"data: {data.shape}\")\n",
    "    print(f\"labels: {labels.shape}\")\n",
    "    \n",
    "    \n",
    "    mask = mask.reshape(-1)\n",
    "    data = data.reshape(-1)\n",
    "    labels = labels.reshape(-1,3)\n",
    "    print(\"AFTER\")    \n",
    "    print(f\"mask: {mask.shape}\")\n",
    "    print(f\"data: {data.shape}\")\n",
    "    print(f\"labels: {labels.shape}\")\n",
    "    \n",
    "    labels = labels[ mask.type(torch.bool) ]\n",
    "    \n",
    "    res_df = pd.DataFrame(train_dataset.risk_encoder.inverse_transform(labels), columns=[\"pred\"])\n",
    "    #res_df.to_csv(\"shit.csv\", index=False)\n",
    "    print(mask.sum())\n",
    "    break\n",
    "    "
   ]
  },
  {
   "cell_type": "code",
   "execution_count": 10,
   "metadata": {},
   "outputs": [],
   "source": [
    "for batch in test_dataloader:\n",
    "    pass\n"
   ]
  },
  {
   "cell_type": "code",
   "execution_count": null,
   "metadata": {},
   "outputs": [],
   "source": []
  }
 ],
 "metadata": {
  "kernelspec": {
   "display_name": "jack_predicting-failure-risk-levels",
   "language": "python",
   "name": "python3"
  },
  "language_info": {
   "codemirror_mode": {
    "name": "ipython",
    "version": 3
   },
   "file_extension": ".py",
   "mimetype": "text/x-python",
   "name": "python",
   "nbconvert_exporter": "python",
   "pygments_lexer": "ipython3",
   "version": "3.12.3"
  }
 },
 "nbformat": 4,
 "nbformat_minor": 2
}
