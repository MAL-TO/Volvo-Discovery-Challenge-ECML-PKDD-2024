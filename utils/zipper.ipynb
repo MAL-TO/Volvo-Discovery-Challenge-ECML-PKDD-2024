{
 "cells": [
  {
   "cell_type": "code",
   "execution_count": 1,
   "metadata": {},
   "outputs": [],
   "source": [
    "import zipfile\n",
    "import os\n",
    "\n",
    "def compress_file(input_file, output_zip):\n",
    "    with zipfile.ZipFile(output_zip, 'w', zipfile.ZIP_DEFLATED) as zipf:\n",
    "        zipf.write(input_file, os.path.basename(input_file))"
   ]
  },
  {
   "cell_type": "code",
   "execution_count": 2,
   "metadata": {},
   "outputs": [],
   "source": [
    "CSV_PATH = r\"/home/grosso/predicting-failure-risk-levels/prediction.csv\"\n",
    "ZIP_PATH = r\"/home/grosso/predicting-failure-risk-levels/prediction.csv.zip\""
   ]
  },
  {
   "cell_type": "code",
   "execution_count": 3,
   "metadata": {},
   "outputs": [
    {
     "name": "stdout",
     "output_type": "stream",
     "text": [
      "File \"/home/grosso/predicting-failure-risk-levels/prediction.csv.zip\" successfully created for submission to the Codabench portal.\n"
     ]
    }
   ],
   "source": [
    "compress_file(CSV_PATH, ZIP_PATH)\n",
    "print(f'File \"{ZIP_PATH}\" successfully created for submission to the Codabench portal.')"
   ]
  }
 ],
 "metadata": {
  "kernelspec": {
   "display_name": "jack_predicting-failure-risk-levels",
   "language": "python",
   "name": "python3"
  },
  "language_info": {
   "codemirror_mode": {
    "name": "ipython",
    "version": 3
   },
   "file_extension": ".py",
   "mimetype": "text/x-python",
   "name": "python",
   "nbconvert_exporter": "python",
   "pygments_lexer": "ipython3",
   "version": "3.12.3"
  }
 },
 "nbformat": 4,
 "nbformat_minor": 2
}
